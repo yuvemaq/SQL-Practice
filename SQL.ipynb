{
 "cells": [
  {
   "cell_type": "markdown",
   "id": "1b80077f",
   "metadata": {},
   "source": [
    "### SQL Practice\n"
   ]
  },
  {
   "cell_type": "code",
   "execution_count": 1,
   "id": "b5c649da",
   "metadata": {},
   "outputs": [],
   "source": [
    "from IPython.display import Image, display"
   ]
  },
  {
   "cell_type": "markdown",
   "id": "2f61760b",
   "metadata": {},
   "source": [
    "1. The first column is an alphabetically ordered list of Doctor names. The second column is an alphabetically ordered list of Professor names. The third column is an alphabetically ordered list of Singer names. The fourth column is an alphateically ordered list of Actor names. The empty cell data for columns with less than the max number of names per occupation (in this case, the Professor and Actor columns) are filled with NULL values. Datatype is string. Output headers should be Doctor, Professor, Singer, and Actor respectively.\n",
    "\n",
    "#### Table Name: Occupations\n",
    "\n",
    "| Name | Occupation |\n",
    "| --- | --- |\n",
    "| Samantha | Doctor |\n",
    "| Julia | Actor |\n",
    "| Maria | Actor |\n",
    "| Meera | Singer |\n",
    "| Ashley | Professor |\n",
    "| Ketty | Professor |\n",
    "| Christeen | Professor |\n",
    "| Jane | Actor |\n",
    "| Jenny | Doctor |\n",
    "| Priya | Singer |\n",
    "\n",
    "\n",
    "*Sample Output*\n",
    "\n",
    "\n",
    "| Doctor | Professor | Singer | Actor |\n",
    "| --- | --- | --- | --- |\n",
    "| Jenny | Ashely | Meera | Jane |\n",
    "| Samantha | Christeen | Priya | Julia |\n",
    "| NULL | Ketty | NULL | Maria |\n"
   ]
  },
  {
   "cell_type": "markdown",
   "id": "ad0d4f60",
   "metadata": {},
   "source": [
    "*Select \n",
    "    Max(Case when occupation='Doctor' then Name end ) as Doctor,\n",
    "    Max(Case when occupation='Professor' then Name end) as Professor, \n",
    "    Max(Case when occupation='Singer' then Name end) as Singer,\n",
    "    Max(Case when occupation='Actor' then Name end) as Actor \n",
    "From ( \n",
    "    select name, occupation, row_number() over (partition by Occupation order by Name) as rnk \n",
    "    from occupations ) \n",
    "group by rnk order by rnk;*"
   ]
  },
  {
   "cell_type": "code",
   "execution_count": null,
   "id": "e8eeb850",
   "metadata": {},
   "outputs": [],
   "source": []
  }
 ],
 "metadata": {
  "kernelspec": {
   "display_name": "Python 3 (ipykernel)",
   "language": "python",
   "name": "python3"
  },
  "language_info": {
   "codemirror_mode": {
    "name": "ipython",
    "version": 3
   },
   "file_extension": ".py",
   "mimetype": "text/x-python",
   "name": "python",
   "nbconvert_exporter": "python",
   "pygments_lexer": "ipython3",
   "version": "3.10.9"
  }
 },
 "nbformat": 4,
 "nbformat_minor": 5
}
